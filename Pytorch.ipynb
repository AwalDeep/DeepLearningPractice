{
  "nbformat": 4,
  "nbformat_minor": 0,
  "metadata": {
    "colab": {
      "name": "Pytorch.ipynb",
      "version": "0.3.2",
      "provenance": []
    },
    "kernelspec": {
      "name": "python3",
      "display_name": "Python 3"
    },
    "accelerator": "GPU"
  },
  "cells": [
    {
      "metadata": {
        "id": "7Ochnbd9fGmi",
        "colab_type": "text"
      },
      "cell_type": "markdown",
      "source": [
        "# **PyTorch**"
      ]
    },
    {
      "metadata": {
        "id": "koOjOsnqer48",
        "colab_type": "text"
      },
      "cell_type": "markdown",
      "source": [
        "**Two important features of Pytorch are: **\n",
        "\n",
        " **1. *GPU acceleration*  **\n",
        "   \n",
        " **2. *Autograd * **"
      ]
    },
    {
      "metadata": {
        "id": "ZfwQb2zufvf8",
        "colab_type": "text"
      },
      "cell_type": "markdown",
      "source": [
        "**Tensors** : Can be thought of like large dimensional matrices"
      ]
    },
    {
      "metadata": {
        "id": "Tf-4aiMtdby_",
        "colab_type": "text"
      },
      "cell_type": "markdown",
      "source": [
        "# Import libraries"
      ]
    },
    {
      "metadata": {
        "id": "hb-IAjrgdR0F",
        "colab_type": "code",
        "colab": {}
      },
      "cell_type": "code",
      "source": [
        "import numpy as np\n",
        "import torch\n",
        "import matplotlib.pyplot as plt"
      ],
      "execution_count": 0,
      "outputs": []
    },
    {
      "metadata": {
        "id": "hWjk6WbNgy12",
        "colab_type": "text"
      },
      "cell_type": "markdown",
      "source": [
        "# Simple Tensor Operations"
      ]
    },
    {
      "metadata": {
        "id": "-vHWIWn-deZM",
        "colab_type": "code",
        "outputId": "b7ab709d-90ec-49b3-dc31-f61a1086dc8b",
        "colab": {
          "base_uri": "https://localhost:8080/",
          "height": 153
        }
      },
      "cell_type": "code",
      "source": [
        "x=torch.zeros(3,2)\n",
        "y=torch.ones(2,1)\n",
        "z=torch.rand(3,3)\n",
        "print(x)\n",
        "print(y)\n",
        "print(z)"
      ],
      "execution_count": 3,
      "outputs": [
        {
          "output_type": "stream",
          "text": [
            "tensor([[0., 0.],\n",
            "        [0., 0.],\n",
            "        [0., 0.]])\n",
            "tensor([[1.],\n",
            "        [1.]])\n",
            "tensor([[0.3642, 0.2997, 0.6798],\n",
            "        [0.6587, 0.1626, 0.5145],\n",
            "        [0.3488, 0.4187, 0.9535]])\n"
          ],
          "name": "stdout"
        }
      ]
    },
    {
      "metadata": {
        "id": "m6jtnxpthRnF",
        "colab_type": "code",
        "outputId": "09193b3a-d241-42d0-dae6-68024dd108c5",
        "colab": {
          "base_uri": "https://localhost:8080/",
          "height": 68
        }
      },
      "cell_type": "code",
      "source": [
        "torch.empty(3,3)"
      ],
      "execution_count": 4,
      "outputs": [
        {
          "output_type": "execute_result",
          "data": {
            "text/plain": [
              "tensor([[1.9003e-36, 0.0000e+00, 2.6625e-44],\n",
              "        [0.0000e+00,        nan, 0.0000e+00],\n",
              "        [3.0601e+32, 1.8179e+31, 2.7947e+20]])"
            ]
          },
          "metadata": {
            "tags": []
          },
          "execution_count": 4
        }
      ]
    },
    {
      "metadata": {
        "id": "Isw5l00fhUju",
        "colab_type": "code",
        "outputId": "67654457-2ddc-44ca-c9e6-fa1661955cb2",
        "colab": {
          "base_uri": "https://localhost:8080/",
          "height": 68
        }
      },
      "cell_type": "code",
      "source": [
        "torch.zeros_like(x)"
      ],
      "execution_count": 5,
      "outputs": [
        {
          "output_type": "execute_result",
          "data": {
            "text/plain": [
              "tensor([[0., 0.],\n",
              "        [0., 0.],\n",
              "        [0., 0.]])"
            ]
          },
          "metadata": {
            "tags": []
          },
          "execution_count": 5
        }
      ]
    },
    {
      "metadata": {
        "id": "a9zfVDF_hZ6T",
        "colab_type": "code",
        "outputId": "e0ce6de0-0b8c-404b-a00e-2ce3c4f79e13",
        "colab": {
          "base_uri": "https://localhost:8080/",
          "height": 34
        }
      },
      "cell_type": "code",
      "source": [
        "torch.linspace(0,10,steps=6)"
      ],
      "execution_count": 6,
      "outputs": [
        {
          "output_type": "execute_result",
          "data": {
            "text/plain": [
              "tensor([ 0.,  2.,  4.,  6.,  8., 10.])"
            ]
          },
          "metadata": {
            "tags": []
          },
          "execution_count": 6
        }
      ]
    },
    {
      "metadata": {
        "id": "kvnNIIZchfFe",
        "colab_type": "code",
        "outputId": "15ffdda4-e6e8-4cf5-8bdf-736bc35029d7",
        "colab": {
          "base_uri": "https://localhost:8080/",
          "height": 51
        }
      },
      "cell_type": "code",
      "source": [
        "torch.tensor([[1,2],[3,4]])"
      ],
      "execution_count": 7,
      "outputs": [
        {
          "output_type": "execute_result",
          "data": {
            "text/plain": [
              "tensor([[1, 2],\n",
              "        [3, 4]])"
            ]
          },
          "metadata": {
            "tags": []
          },
          "execution_count": 7
        }
      ]
    },
    {
      "metadata": {
        "id": "ORXNy5WthxF8",
        "colab_type": "text"
      },
      "cell_type": "markdown",
      "source": [
        "# Slicing tensors"
      ]
    },
    {
      "metadata": {
        "id": "VxiL8VDEh7bN",
        "colab_type": "code",
        "outputId": "5196383b-ec40-48ee-f21b-24b6d659731c",
        "colab": {
          "base_uri": "https://localhost:8080/",
          "height": 68
        }
      },
      "cell_type": "code",
      "source": [
        "z"
      ],
      "execution_count": 8,
      "outputs": [
        {
          "output_type": "execute_result",
          "data": {
            "text/plain": [
              "tensor([[0.3642, 0.2997, 0.6798],\n",
              "        [0.6587, 0.1626, 0.5145],\n",
              "        [0.3488, 0.4187, 0.9535]])"
            ]
          },
          "metadata": {
            "tags": []
          },
          "execution_count": 8
        }
      ]
    },
    {
      "metadata": {
        "id": "jCcoGJvVhti9",
        "colab_type": "code",
        "outputId": "2953a669-fc07-4c4e-a2ef-52540693a92f",
        "colab": {
          "base_uri": "https://localhost:8080/",
          "height": 34
        }
      },
      "cell_type": "code",
      "source": [
        "z.size()"
      ],
      "execution_count": 9,
      "outputs": [
        {
          "output_type": "execute_result",
          "data": {
            "text/plain": [
              "torch.Size([3, 3])"
            ]
          },
          "metadata": {
            "tags": []
          },
          "execution_count": 9
        }
      ]
    },
    {
      "metadata": {
        "id": "w7uG21aOh4aP",
        "colab_type": "code",
        "outputId": "9c22f886-ad5b-49ba-ddf3-6b11714b3b38",
        "colab": {
          "base_uri": "https://localhost:8080/",
          "height": 51
        }
      },
      "cell_type": "code",
      "source": [
        "z[:2,:]"
      ],
      "execution_count": 10,
      "outputs": [
        {
          "output_type": "execute_result",
          "data": {
            "text/plain": [
              "tensor([[0.3642, 0.2997, 0.6798],\n",
              "        [0.6587, 0.1626, 0.5145]])"
            ]
          },
          "metadata": {
            "tags": []
          },
          "execution_count": 10
        }
      ]
    },
    {
      "metadata": {
        "id": "OMxRotX0iA-G",
        "colab_type": "code",
        "outputId": "97ba129a-a2eb-4067-eaa3-40d3d892c816",
        "colab": {
          "base_uri": "https://localhost:8080/",
          "height": 51
        }
      },
      "cell_type": "code",
      "source": [
        "z[1:,:-1]"
      ],
      "execution_count": 11,
      "outputs": [
        {
          "output_type": "execute_result",
          "data": {
            "text/plain": [
              "tensor([[0.6587, 0.1626],\n",
              "        [0.3488, 0.4187]])"
            ]
          },
          "metadata": {
            "tags": []
          },
          "execution_count": 11
        }
      ]
    },
    {
      "metadata": {
        "id": "slVo6_c0iHVw",
        "colab_type": "code",
        "colab": {}
      },
      "cell_type": "code",
      "source": [
        "a=z[2,2]"
      ],
      "execution_count": 0,
      "outputs": []
    },
    {
      "metadata": {
        "id": "17kgfgyTiaa6",
        "colab_type": "code",
        "outputId": "8adc0dec-2cc6-4e40-b80b-81b03a40139f",
        "colab": {
          "base_uri": "https://localhost:8080/",
          "height": 34
        }
      },
      "cell_type": "code",
      "source": [
        "a"
      ],
      "execution_count": 13,
      "outputs": [
        {
          "output_type": "execute_result",
          "data": {
            "text/plain": [
              "tensor(0.9535)"
            ]
          },
          "metadata": {
            "tags": []
          },
          "execution_count": 13
        }
      ]
    },
    {
      "metadata": {
        "id": "nwSvi64oiSP1",
        "colab_type": "code",
        "outputId": "770270b3-a73a-40b6-d032-c67ee6911c02",
        "colab": {
          "base_uri": "https://localhost:8080/",
          "height": 34
        }
      },
      "cell_type": "code",
      "source": [
        "a.item()"
      ],
      "execution_count": 14,
      "outputs": [
        {
          "output_type": "execute_result",
          "data": {
            "text/plain": [
              "0.9534729719161987"
            ]
          },
          "metadata": {
            "tags": []
          },
          "execution_count": 14
        }
      ]
    },
    {
      "metadata": {
        "id": "885ZXesVipz7",
        "colab_type": "text"
      },
      "cell_type": "markdown",
      "source": [
        "# Reshaping"
      ]
    },
    {
      "metadata": {
        "id": "NuZU7ab0iS5b",
        "colab_type": "code",
        "colab": {}
      },
      "cell_type": "code",
      "source": [
        "b=z[:2,:]"
      ],
      "execution_count": 0,
      "outputs": []
    },
    {
      "metadata": {
        "id": "xQtauUWbitNK",
        "colab_type": "code",
        "outputId": "a2017469-043e-43e2-bfa2-04886743ef3a",
        "colab": {
          "base_uri": "https://localhost:8080/",
          "height": 54
        }
      },
      "cell_type": "code",
      "source": [
        "b.size()"
      ],
      "execution_count": 16,
      "outputs": [
        {
          "output_type": "execute_result",
          "data": {
            "text/plain": [
              "torch.Size([2, 3])"
            ]
          },
          "metadata": {
            "tags": []
          },
          "execution_count": 16
        }
      ]
    },
    {
      "metadata": {
        "id": "n681XqI4iuS-",
        "colab_type": "code",
        "outputId": "ddf84b5f-5fcb-498d-a144-d7d94e300e35",
        "colab": {
          "base_uri": "https://localhost:8080/",
          "height": 88
        }
      },
      "cell_type": "code",
      "source": [
        "b.view(3,2)"
      ],
      "execution_count": 17,
      "outputs": [
        {
          "output_type": "execute_result",
          "data": {
            "text/plain": [
              "tensor([[0.3642, 0.2997],\n",
              "        [0.6798, 0.6587],\n",
              "        [0.1626, 0.5145]])"
            ]
          },
          "metadata": {
            "tags": []
          },
          "execution_count": 17
        }
      ]
    },
    {
      "metadata": {
        "id": "9aVSQ1gZiyMq",
        "colab_type": "code",
        "outputId": "c8d4285d-70e7-42d9-cad6-d19931bac4ff",
        "colab": {
          "base_uri": "https://localhost:8080/",
          "height": 139
        }
      },
      "cell_type": "code",
      "source": [
        "b.view(6,-1)"
      ],
      "execution_count": 18,
      "outputs": [
        {
          "output_type": "execute_result",
          "data": {
            "text/plain": [
              "tensor([[0.3642],\n",
              "        [0.2997],\n",
              "        [0.6798],\n",
              "        [0.6587],\n",
              "        [0.1626],\n",
              "        [0.5145]])"
            ]
          },
          "metadata": {
            "tags": []
          },
          "execution_count": 18
        }
      ]
    },
    {
      "metadata": {
        "id": "Cj6r4on1jMiM",
        "colab_type": "text"
      },
      "cell_type": "markdown",
      "source": [
        "# Simple operations"
      ]
    },
    {
      "metadata": {
        "id": "sm6stdr4i2pH",
        "colab_type": "code",
        "colab": {}
      },
      "cell_type": "code",
      "source": [
        "x=torch.ones(3,2)\n",
        "y=torch.ones(3,2)"
      ],
      "execution_count": 0,
      "outputs": []
    },
    {
      "metadata": {
        "id": "zwF306kYjVL9",
        "colab_type": "code",
        "outputId": "d12e99af-afca-43ca-cc16-2e113bd494a6",
        "colab": {
          "base_uri": "https://localhost:8080/",
          "height": 88
        }
      },
      "cell_type": "code",
      "source": [
        "x+y"
      ],
      "execution_count": 20,
      "outputs": [
        {
          "output_type": "execute_result",
          "data": {
            "text/plain": [
              "tensor([[2., 2.],\n",
              "        [2., 2.],\n",
              "        [2., 2.]])"
            ]
          },
          "metadata": {
            "tags": []
          },
          "execution_count": 20
        }
      ]
    },
    {
      "metadata": {
        "id": "3NckHJtkjWLy",
        "colab_type": "code",
        "outputId": "44a867c9-6f06-47ee-d3d5-69bcd33b5803",
        "colab": {
          "base_uri": "https://localhost:8080/",
          "height": 88
        }
      },
      "cell_type": "code",
      "source": [
        "x-y"
      ],
      "execution_count": 21,
      "outputs": [
        {
          "output_type": "execute_result",
          "data": {
            "text/plain": [
              "tensor([[0., 0.],\n",
              "        [0., 0.],\n",
              "        [0., 0.]])"
            ]
          },
          "metadata": {
            "tags": []
          },
          "execution_count": 21
        }
      ]
    },
    {
      "metadata": {
        "id": "fKa3n2eOjXVl",
        "colab_type": "code",
        "outputId": "adc780cc-2f2a-4b5e-f5da-d173e7993a5d",
        "colab": {
          "base_uri": "https://localhost:8080/",
          "height": 88
        }
      },
      "cell_type": "code",
      "source": [
        "x*y"
      ],
      "execution_count": 22,
      "outputs": [
        {
          "output_type": "execute_result",
          "data": {
            "text/plain": [
              "tensor([[1., 1.],\n",
              "        [1., 1.],\n",
              "        [1., 1.]])"
            ]
          },
          "metadata": {
            "tags": []
          },
          "execution_count": 22
        }
      ]
    },
    {
      "metadata": {
        "id": "LZDOIzsUjY3j",
        "colab_type": "code",
        "outputId": "ea316992-fe26-4535-c329-79732fa10972",
        "colab": {
          "base_uri": "https://localhost:8080/",
          "height": 88
        }
      },
      "cell_type": "code",
      "source": [
        "x/y"
      ],
      "execution_count": 23,
      "outputs": [
        {
          "output_type": "execute_result",
          "data": {
            "text/plain": [
              "tensor([[1., 1.],\n",
              "        [1., 1.],\n",
              "        [1., 1.]])"
            ]
          },
          "metadata": {
            "tags": []
          },
          "execution_count": 23
        }
      ]
    },
    {
      "metadata": {
        "id": "y1r0huW1jaQA",
        "colab_type": "code",
        "outputId": "783a362f-b562-4216-9f4e-8a31eb4dbdba",
        "colab": {
          "base_uri": "https://localhost:8080/",
          "height": 88
        }
      },
      "cell_type": "code",
      "source": [
        "z=x.add(y)\n",
        "\n",
        "print(z)"
      ],
      "execution_count": 24,
      "outputs": [
        {
          "output_type": "stream",
          "text": [
            "tensor([[2., 2.],\n",
            "        [2., 2.],\n",
            "        [2., 2.]])\n"
          ],
          "name": "stdout"
        }
      ]
    },
    {
      "metadata": {
        "id": "73OPHo3bji55",
        "colab_type": "code",
        "colab": {}
      },
      "cell_type": "code",
      "source": [
        "# inplace, x also gets updated as z\n",
        "z=x.add_(y)"
      ],
      "execution_count": 0,
      "outputs": []
    },
    {
      "metadata": {
        "id": "rrWdpHVljpVX",
        "colab_type": "code",
        "outputId": "1c760352-e242-4c83-c380-3f2fd6be47ff",
        "colab": {
          "base_uri": "https://localhost:8080/",
          "height": 88
        }
      },
      "cell_type": "code",
      "source": [
        "print(z)"
      ],
      "execution_count": 26,
      "outputs": [
        {
          "output_type": "stream",
          "text": [
            "tensor([[2., 2.],\n",
            "        [2., 2.],\n",
            "        [2., 2.]])\n"
          ],
          "name": "stdout"
        }
      ]
    },
    {
      "metadata": {
        "id": "c7QS2aDwj_wk",
        "colab_type": "text"
      },
      "cell_type": "markdown",
      "source": [
        "# Torch and Numpy"
      ]
    },
    {
      "metadata": {
        "id": "glSoZYQljqhJ",
        "colab_type": "code",
        "colab": {}
      },
      "cell_type": "code",
      "source": [
        "x_np=x.numpy()"
      ],
      "execution_count": 0,
      "outputs": []
    },
    {
      "metadata": {
        "id": "c9u6hguvmL7c",
        "colab_type": "code",
        "outputId": "37e3f3c9-cedb-4c8d-aae1-fa9696c3e666",
        "colab": {
          "base_uri": "https://localhost:8080/",
          "height": 34
        }
      },
      "cell_type": "code",
      "source": [
        "type(x),type(x_np)"
      ],
      "execution_count": 28,
      "outputs": [
        {
          "output_type": "execute_result",
          "data": {
            "text/plain": [
              "(torch.Tensor, numpy.ndarray)"
            ]
          },
          "metadata": {
            "tags": []
          },
          "execution_count": 28
        }
      ]
    },
    {
      "metadata": {
        "id": "-c1pxKnUmOC2",
        "colab_type": "code",
        "colab": {}
      },
      "cell_type": "code",
      "source": [
        "x_t=torch.from_numpy(x_np)"
      ],
      "execution_count": 0,
      "outputs": []
    },
    {
      "metadata": {
        "id": "pgSMC1q-mYro",
        "colab_type": "code",
        "outputId": "c876e35a-1c9d-47ab-a458-31bed9b14457",
        "colab": {
          "base_uri": "https://localhost:8080/",
          "height": 34
        }
      },
      "cell_type": "code",
      "source": [
        "type(x_t)"
      ],
      "execution_count": 30,
      "outputs": [
        {
          "output_type": "execute_result",
          "data": {
            "text/plain": [
              "torch.Tensor"
            ]
          },
          "metadata": {
            "tags": []
          },
          "execution_count": 30
        }
      ]
    },
    {
      "metadata": {
        "id": "kYOW5__qmdLU",
        "colab_type": "code",
        "colab": {}
      },
      "cell_type": "code",
      "source": [
        "# If I update x_t , note that x also gets updated simultaneously"
      ],
      "execution_count": 0,
      "outputs": []
    },
    {
      "metadata": {
        "id": "E_GDp7tRm53X",
        "colab_type": "code",
        "outputId": "9e346ea3-5916-46a5-895c-c36743d9a5fa",
        "colab": {
          "base_uri": "https://localhost:8080/",
          "height": 51
        }
      },
      "cell_type": "code",
      "source": [
        "%%time\n",
        "\n",
        "for i in range(100):\n",
        "  a=np.random.randn(100,100)\n",
        "  b=np.random.randn(100,100)\n",
        "  c=a+b\n",
        "  "
      ],
      "execution_count": 32,
      "outputs": [
        {
          "output_type": "stream",
          "text": [
            "CPU times: user 84.2 ms, sys: 564 µs, total: 84.8 ms\n",
            "Wall time: 96.8 ms\n"
          ],
          "name": "stdout"
        }
      ]
    },
    {
      "metadata": {
        "id": "AlT1W89Bu4bv",
        "colab_type": "code",
        "outputId": "0380934e-60f8-4dda-e140-e7eb1a684db6",
        "colab": {
          "base_uri": "https://localhost:8080/",
          "height": 51
        }
      },
      "cell_type": "code",
      "source": [
        "%%time\n",
        "\n",
        "for i in range(100):\n",
        "  a=torch.rand(100,100)\n",
        "  b=torch.rand(100,100)\n",
        "  c=a+b"
      ],
      "execution_count": 33,
      "outputs": [
        {
          "output_type": "stream",
          "text": [
            "CPU times: user 14.3 ms, sys: 1.63 ms, total: 15.9 ms\n",
            "Wall time: 18.9 ms\n"
          ],
          "name": "stdout"
        }
      ]
    },
    {
      "metadata": {
        "id": "h6mwhjQwvECF",
        "colab_type": "text"
      },
      "cell_type": "markdown",
      "source": [
        "# As you can see, even with CPU compute, pytorch is way faster then numpy"
      ]
    },
    {
      "metadata": {
        "id": "jyKS4Q6jTpjK",
        "colab_type": "text"
      },
      "cell_type": "markdown",
      "source": [
        "# GPU Support"
      ]
    },
    {
      "metadata": {
        "id": "2fE6z5GzvAT5",
        "colab_type": "code",
        "colab": {
          "base_uri": "https://localhost:8080/",
          "height": 34
        },
        "outputId": "9fa05dfc-3dc3-48be-99ae-753a8df99975"
      },
      "cell_type": "code",
      "source": [
        "print(torch.cuda.device_count())"
      ],
      "execution_count": 34,
      "outputs": [
        {
          "output_type": "stream",
          "text": [
            "1\n"
          ],
          "name": "stdout"
        }
      ]
    },
    {
      "metadata": {
        "id": "iyeWs2soT0bi",
        "colab_type": "code",
        "colab": {
          "base_uri": "https://localhost:8080/",
          "height": 51
        },
        "outputId": "1f3a2f14-12b3-42a1-bcc6-ac160617bc9e"
      },
      "cell_type": "code",
      "source": [
        "print(torch.cuda.device(0))\n",
        "print(torch.cuda.get_device_name(0))"
      ],
      "execution_count": 35,
      "outputs": [
        {
          "output_type": "stream",
          "text": [
            "<torch.cuda.device object at 0x7f75ab3eb128>\n",
            "Tesla T4\n"
          ],
          "name": "stdout"
        }
      ]
    },
    {
      "metadata": {
        "id": "qreoOz7cUgyF",
        "colab_type": "code",
        "colab": {}
      },
      "cell_type": "code",
      "source": [
        "cuda0=torch.device('cuda:0')"
      ],
      "execution_count": 0,
      "outputs": []
    },
    {
      "metadata": {
        "id": "6uxG6IiiUpUr",
        "colab_type": "code",
        "colab": {
          "base_uri": "https://localhost:8080/",
          "height": 68
        },
        "outputId": "a74728bb-9ad3-4b93-df3a-cc85b59bd142"
      },
      "cell_type": "code",
      "source": [
        "a=torch.ones(3,2,device=cuda0)\n",
        "b=torch.ones(3,2,device=cuda0)\n",
        "c=a+b\n",
        "print(c)"
      ],
      "execution_count": 37,
      "outputs": [
        {
          "output_type": "stream",
          "text": [
            "tensor([[2., 2.],\n",
            "        [2., 2.],\n",
            "        [2., 2.]], device='cuda:0')\n"
          ],
          "name": "stdout"
        }
      ]
    },
    {
      "metadata": {
        "id": "D0AmFCdsVFOx",
        "colab_type": "text"
      },
      "cell_type": "markdown",
      "source": [
        "# numpy vs pytorch_cpu and pytorch_gpu"
      ]
    },
    {
      "metadata": {
        "id": "5VGB2xlRU4W8",
        "colab_type": "code",
        "colab": {
          "base_uri": "https://localhost:8080/",
          "height": 51
        },
        "outputId": "adf88bd2-9e92-45a0-c92b-7c09227c4e1d"
      },
      "cell_type": "code",
      "source": [
        "%%time\n",
        "\n",
        "for i in range(100):\n",
        "  a=np.random.randn(1000,1000)\n",
        "  b=np.random.randn(1000,1000)\n",
        "  c=np.add(b,a)"
      ],
      "execution_count": 41,
      "outputs": [
        {
          "output_type": "stream",
          "text": [
            "CPU times: user 8.62 s, sys: 28.4 ms, total: 8.65 s\n",
            "Wall time: 8.65 s\n"
          ],
          "name": "stdout"
        }
      ]
    },
    {
      "metadata": {
        "id": "QtO1pQVdVUht",
        "colab_type": "code",
        "colab": {
          "base_uri": "https://localhost:8080/",
          "height": 51
        },
        "outputId": "15c1cad7-cc39-47ca-f9dd-3f47809adce8"
      },
      "cell_type": "code",
      "source": [
        "%%time\n",
        "\n",
        "for i in range(100):\n",
        "  a=torch.randn([1000,1000])\n",
        "  b=torch.randn([1000,1000])\n",
        "  c=b.add_(a)"
      ],
      "execution_count": 42,
      "outputs": [
        {
          "output_type": "stream",
          "text": [
            "CPU times: user 1.7 s, sys: 18.4 ms, total: 1.72 s\n",
            "Wall time: 1.72 s\n"
          ],
          "name": "stdout"
        }
      ]
    },
    {
      "metadata": {
        "id": "XjZARWMqVVNQ",
        "colab_type": "code",
        "colab": {
          "base_uri": "https://localhost:8080/",
          "height": 51
        },
        "outputId": "d666efa4-8300-44a4-d802-093cef0677af"
      },
      "cell_type": "code",
      "source": [
        "%%time\n",
        "\n",
        "for i in range(100):\n",
        "  a=torch.randn([1000,1000],device=cuda0)\n",
        "  b=torch.randn([1000,1000],device=cuda0)\n",
        "  c=b.add_(a)"
      ],
      "execution_count": 43,
      "outputs": [
        {
          "output_type": "stream",
          "text": [
            "CPU times: user 3.42 ms, sys: 3.93 ms, total: 7.35 ms\n",
            "Wall time: 15.6 ms\n"
          ],
          "name": "stdout"
        }
      ]
    },
    {
      "metadata": {
        "id": "TvHpT2MAWjya",
        "colab_type": "text"
      },
      "cell_type": "markdown",
      "source": [
        "# WOW! "
      ]
    },
    {
      "metadata": {
        "id": "ofIURFgkW20t",
        "colab_type": "text"
      },
      "cell_type": "markdown",
      "source": [
        "# Automatic differentiation"
      ]
    },
    {
      "metadata": {
        "id": "P9m_IPDgYfNh",
        "colab_type": "text"
      },
      "cell_type": "markdown",
      "source": [
        "Simulation of a forward pass and a backward pass(automatic)"
      ]
    },
    {
      "metadata": {
        "id": "IqUlT2Q3V4PM",
        "colab_type": "code",
        "colab": {
          "base_uri": "https://localhost:8080/",
          "height": 68
        },
        "outputId": "ae9e4693-2a04-4069-d186-29680c84acff"
      },
      "cell_type": "code",
      "source": [
        "x=torch.ones(3,2,requires_grad=True)\n",
        "print(x)"
      ],
      "execution_count": 49,
      "outputs": [
        {
          "output_type": "stream",
          "text": [
            "tensor([[1., 1.],\n",
            "        [1., 1.],\n",
            "        [1., 1.]], requires_grad=True)\n"
          ],
          "name": "stdout"
        }
      ]
    },
    {
      "metadata": {
        "id": "EUpfVTDLXz0s",
        "colab_type": "code",
        "colab": {
          "base_uri": "https://localhost:8080/",
          "height": 68
        },
        "outputId": "423c4526-7cfe-4684-914f-b0682fff311b"
      },
      "cell_type": "code",
      "source": [
        "y=x+5\n",
        "print(y)"
      ],
      "execution_count": 50,
      "outputs": [
        {
          "output_type": "stream",
          "text": [
            "tensor([[6., 6.],\n",
            "        [6., 6.],\n",
            "        [6., 6.]], grad_fn=<AddBackward0>)\n"
          ],
          "name": "stdout"
        }
      ]
    },
    {
      "metadata": {
        "id": "Yqzq8UYRX1k9",
        "colab_type": "code",
        "colab": {
          "base_uri": "https://localhost:8080/",
          "height": 68
        },
        "outputId": "70a17649-28e8-46b5-b10c-97aea3601fef"
      },
      "cell_type": "code",
      "source": [
        "z=y*y+1\n",
        "print(z)"
      ],
      "execution_count": 51,
      "outputs": [
        {
          "output_type": "stream",
          "text": [
            "tensor([[37., 37.],\n",
            "        [37., 37.],\n",
            "        [37., 37.]], grad_fn=<AddBackward0>)\n"
          ],
          "name": "stdout"
        }
      ]
    },
    {
      "metadata": {
        "id": "BLOfqpPwX6PA",
        "colab_type": "code",
        "colab": {
          "base_uri": "https://localhost:8080/",
          "height": 68
        },
        "outputId": "a1d73274-4404-48b4-a06f-8ac4e1ee6e50"
      },
      "cell_type": "code",
      "source": [
        "t=torch.sum(z)\n",
        "print(z)"
      ],
      "execution_count": 52,
      "outputs": [
        {
          "output_type": "stream",
          "text": [
            "tensor([[37., 37.],\n",
            "        [37., 37.],\n",
            "        [37., 37.]], grad_fn=<AddBackward0>)\n"
          ],
          "name": "stdout"
        }
      ]
    },
    {
      "metadata": {
        "id": "yG5UgRXBYMxc",
        "colab_type": "code",
        "colab": {}
      },
      "cell_type": "code",
      "source": [
        "t.backward()"
      ],
      "execution_count": 0,
      "outputs": []
    },
    {
      "metadata": {
        "id": "cUdNUN0kYOv0",
        "colab_type": "code",
        "colab": {
          "base_uri": "https://localhost:8080/",
          "height": 68
        },
        "outputId": "7586c613-0185-4772-dc9e-a31e1b2869e2"
      },
      "cell_type": "code",
      "source": [
        "print(x.grad)"
      ],
      "execution_count": 54,
      "outputs": [
        {
          "output_type": "stream",
          "text": [
            "tensor([[12., 12.],\n",
            "        [12., 12.],\n",
            "        [12., 12.]])\n"
          ],
          "name": "stdout"
        }
      ]
    },
    {
      "metadata": {
        "id": "KuvB3g3zYRp8",
        "colab_type": "code",
        "colab": {}
      },
      "cell_type": "code",
      "source": [
        ""
      ],
      "execution_count": 0,
      "outputs": []
    }
  ]
}